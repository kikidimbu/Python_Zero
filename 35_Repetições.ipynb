{
  "nbformat": 4,
  "nbformat_minor": 0,
  "metadata": {
    "colab": {
      "name": "35 - Repetições.ipynb",
      "provenance": [],
      "collapsed_sections": []
    },
    "kernelspec": {
      "name": "python3",
      "display_name": "Python 3"
    },
    "language_info": {
      "name": "python"
    }
  },
  "cells": [
    {
      "cell_type": "markdown",
      "source": [
        "# REPETIÇÕES\n",
        "### 1 - Estrutura de Repetições\n",
        "### 2 - Estrutura For\n",
        "### 3 - Estrutura While\n",
        "### 4 - Interrompendo um loop (Break)\n"
      ],
      "metadata": {
        "id": "lH_Nquogj52e"
      }
    },
    {
      "cell_type": "code",
      "execution_count": null,
      "metadata": {
        "id": "mnjWYEQnj0MW"
      },
      "outputs": [],
      "source": [
        "\n",
        "For i in passo:\n",
        "  print('for: Execute')\n",
        "j = True\n",
        "while j == True:\n",
        "  print('While: Execute')\n",
        "  j = False\n"
      ]
    },
    {
      "cell_type": "markdown",
      "source": [
        "# O QUE É UMA REPETIÇÃO\n",
        "### É algo que precisamos executar várias vezes.\n",
        "### Exemplo: Ler um livro de 20 páginas.\n",
        "### Eu tenho um livro, vou abrí-lo e ler a página 1, depois a 2, depois a 3, até que finalize."
      ],
      "metadata": {
        "id": "yTgdoaxwluiA"
      }
    },
    {
      "cell_type": "code",
      "source": [
        "# Sem o LOOP é preciso ter um print para cada página de leitura:\n",
        "\n",
        "#print('Ler página')\n",
        "#...\n",
        "#print('Ler página')\n",
        "\n",
        "# COM O LOOP\n",
        "\n",
        "#print('Ler página')\n",
        "#  Até quando? ('Até a página 20')\n",
        "#  Através de um contador que ao chegar no número final - neste caso o 20 - se encerra.\n",
        "#  de 1 até 20\n",
        "#    print('Ler página')  \n",
        "#  print('Fim')\n",
        "\n",
        "# E S T R U T U R A   D O   F  O R :\n",
        "# i é o contador = uma variável que vai fazer a contagem e é int\n",
        "for i in range (1,20):\n",
        "  print('Ler Página')\n",
        "print('Fim')\n"
      ],
      "metadata": {
        "colab": {
          "base_uri": "https://localhost:8080/"
        },
        "id": "1ay9zfPJmMYH",
        "outputId": "13b04d83-a8c6-4a67-d689-9088ccc71917"
      },
      "execution_count": 4,
      "outputs": [
        {
          "output_type": "stream",
          "name": "stdout",
          "text": [
            "Ler Página\n",
            "Fim\n"
          ]
        }
      ]
    },
    {
      "cell_type": "markdown",
      "source": [
        "#ENTENDO A ESTRUTUA DO FOR\n",
        "### for - início do loop\n",
        "### i - variável de controle\n",
        "### range (1,20) - indica o espaço em que trabalha o contador do início ao fim do loop - ELE NUNCA CONSIDERA O ÚLTIMO NÚMERO, SEMPRE CONTA ATÉ O PENÚLTIMO\n",
        "### print('Ler páginas) - Bloco de ações repetitivas.\n",
        "### Fim do loop"
      ],
      "metadata": {
        "id": "HgpWytp5oFtk"
      }
    },
    {
      "cell_type": "code",
      "source": [
        "# V A M O  S   R O D A  R   U M    C Ó D I G O\n",
        "print('T E S T E   1')\n",
        "print()\n",
        "for i in range (1,6):\n",
        "  print('i = {} Ler a página'.format(i))\n",
        "print(\"Fim\")\n",
        "print()\n",
        "print('T E S T E   2')\n",
        "print()\n",
        "for i in range (1,6):\n",
        "  print('Ler a página {}'.format(i))\n",
        "print(\"Fim do programa\")\n",
        "\n"
      ],
      "metadata": {
        "colab": {
          "base_uri": "https://localhost:8080/"
        },
        "id": "ex7R-OP_nLb7",
        "outputId": "561caeda-490c-4512-c3d6-a29bc33ac72f"
      },
      "execution_count": 8,
      "outputs": [
        {
          "output_type": "stream",
          "name": "stdout",
          "text": [
            "T E S T E   1\n",
            "\n",
            "i = 1 Ler a página\n",
            "i = 2 Ler a página\n",
            "i = 3 Ler a página\n",
            "i = 4 Ler a página\n",
            "i = 5 Ler a página\n",
            "Fim\n",
            "\n",
            "T E S T E   2\n",
            "\n",
            "Ler a página 1\n",
            "Ler a página 2\n",
            "Ler a página 3\n",
            "Ler a página 4\n",
            "Ler a página 5\n",
            "Fim do programa\n"
          ]
        }
      ]
    },
    {
      "cell_type": "markdown",
      "source": [
        "#MODIFICANDO O RANGE\n",
        "#Estrutura\n",
        "###range(início, fim, passo)\n",
        "###  inicio - número inteiro inicial\n",
        "###  fim - número inteiro final\n",
        "###  passo - quantia somada em cada loop\n",
        "\n",
        "##E X E M P L O S\n",
        "###range(1,7,1) = 1,2,3,4,5,6,7\n",
        "###range(10,16,2) = 10, 12, 14, 16\n",
        "###range(5,1,-1) = 5, 4, 3, 2, 1"
      ],
      "metadata": {
        "id": "zPPBcnZVp7Qr"
      }
    },
    {
      "cell_type": "code",
      "source": [
        "#E X E M P L O   1\n",
        "\n",
        "#somando números ímpares consecutivos\n",
        "soma = 0\n",
        "for i in range (1,9+1, 2):\n",
        "  soma = soma + i\n",
        "  print('i = {} e soma ={}'.format(i,soma))\n",
        "print('soma = {}'.format(soma))\n",
        "print()\n",
        "print('Fim do programa')\n"
      ],
      "metadata": {
        "colab": {
          "base_uri": "https://localhost:8080/"
        },
        "id": "tfNzyYWEpaDZ",
        "outputId": "d1604cd8-ea6d-46fc-b9c4-6eb0121c2082"
      },
      "execution_count": 11,
      "outputs": [
        {
          "output_type": "stream",
          "name": "stdout",
          "text": [
            "i = 1 e soma =1\n",
            "i = 3 e soma =4\n",
            "i = 5 e soma =9\n",
            "i = 7 e soma =16\n",
            "i = 9 e soma =25\n",
            "soma = 25\n",
            "\n",
            "Fim do programa\n"
          ]
        }
      ]
    },
    {
      "cell_type": "markdown",
      "source": [
        ""
      ],
      "metadata": {
        "id": "eOyXFi_7p8wj"
      }
    },
    {
      "cell_type": "code",
      "source": [
        "#E X E M P L O   2\n",
        "soma = 0\n",
        "for i in range(1, 3+1):\n",
        "  n = int(input('Digite uum número: '))\n",
        "  soma = soma + n\n",
        "  print('n = {} e soma = {}'.format(n,soma))\n",
        "print('soma = {}'.format(soma))\n",
        "print()\n",
        "print('Fim do programa')"
      ],
      "metadata": {
        "colab": {
          "base_uri": "https://localhost:8080/"
        },
        "id": "4wZE_Flgp9YD",
        "outputId": "3391ca26-b5f0-4eb0-d123-169700d110a8"
      },
      "execution_count": 13,
      "outputs": [
        {
          "output_type": "stream",
          "name": "stdout",
          "text": [
            "Digite uum número: 3\n",
            "n = 3 e soma = 3\n",
            "Digite uum número: 9\n",
            "n = 9 e soma = 12\n",
            "Digite uum número: 12\n",
            "n = 12 e soma = 24\n",
            "soma = 24\n",
            "\n",
            "Fim do programa\n"
          ]
        }
      ]
    },
    {
      "cell_type": "markdown",
      "source": [
        "#CÁCULOS INCREMENTAIS:\n",
        "###No mundo da programação é normal pegarmos um valor anterior e atualizarmos ele com alguma soma, subtração ou multiplicação. Como vimos nos dois últimos exemplos.\n",
        "###Existe uma maneira mais resumida de fazer essa operação.\n",
        "###soma = 10\n",
        "###soma = soma + 1 ===> soma += 1  ===> para adicionar mais um\n",
        "###      OU\n",
        "###soma = 10\n",
        "###soma = soma -5 ===> soma -=5\n",
        "###O mesmo funciona com as quatro operações: +=, -=, *= e /=\n"
      ],
      "metadata": {
        "id": "jdUMFQ5Jp-Hn"
      }
    },
    {
      "cell_type": "markdown",
      "source": [
        "\n",
        "#E SE NÃO SOUBERMOS A QUANTIDADE DE PASSOS?\n",
        "###Como já vimos, o for é uma estrutura de repetições que possui um começo e um fim bem determinados.\n",
        "###Quando não sabemos onde termina um loop, precisamos usar outros métodos.\n",
        "Ainda no exemplo de leitura do livro."
      ],
      "metadata": {
        "id": "L-ui1qlD2CpI"
      }
    },
    {
      "cell_type": "code",
      "source": [
        "while False:\n",
        "  terminou\n",
        "  print('Ler página')\n",
        "print('Fim')"
      ],
      "metadata": {
        "colab": {
          "base_uri": "https://localhost:8080/"
        },
        "id": "6xJmmkZOp-sU",
        "outputId": "6de347e7-93c9-46f9-f911-af360fb37038"
      },
      "execution_count": 15,
      "outputs": [
        {
          "output_type": "stream",
          "name": "stdout",
          "text": [
            "Fim\n"
          ]
        }
      ]
    },
    {
      "cell_type": "markdown",
      "source": [
        "#Estrutura do While\n",
        "### Primeiro é necessário atrabuir um valor inicial para minha condição ===> enquanto o fim for igual a falso\n"
      ],
      "metadata": {
        "id": "IFv1O6pZ2hwc"
      }
    },
    {
      "cell_type": "code",
      "source": [
        "fim = False\n",
        "while fim == False:\n",
        "  print('Ler página')\n",
        "  fim = input('Terminou?')\n",
        "print('Fim')"
      ],
      "metadata": {
        "colab": {
          "base_uri": "https://localhost:8080/"
        },
        "id": "NGnLE-N12Vqd",
        "outputId": "72ac8a3a-2c33-4666-b527-f5ba25b5f9ff"
      },
      "execution_count": 16,
      "outputs": [
        {
          "output_type": "stream",
          "name": "stdout",
          "text": [
            "Ler página\n",
            "Terminou?Sim\n",
            "Fim\n"
          ]
        }
      ]
    },
    {
      "cell_type": "markdown",
      "source": [
        "###ENTENDENDO A ESTRUTURA DO WHILE\n",
        "###Quero ler um capítulo de um livro, mas não sei quantas páginas possui este capítulo."
      ],
      "metadata": {
        "id": "F8EDe1ah3h94"
      }
    },
    {
      "cell_type": "code",
      "source": [
        "# O USUÁRIO DEVERÁ INFORMAR S OU N\n",
        "\n",
        "fim = 'n'\n",
        "while fim == 'n':\n",
        "  print('Ler página')\n",
        "  fim = input('Terminou?')\n",
        "print('Fim')"
      ],
      "metadata": {
        "colab": {
          "base_uri": "https://localhost:8080/"
        },
        "id": "HIqsHB5K3c_i",
        "outputId": "1a90613e-19ad-41f3-fb03-a0b1d219838e"
      },
      "execution_count": 19,
      "outputs": [
        {
          "output_type": "stream",
          "name": "stdout",
          "text": [
            "Ler página\n",
            "Terminou?0\n",
            "Fim\n"
          ]
        }
      ]
    },
    {
      "cell_type": "code",
      "source": [
        "# fim = declarção de variável de controle\n",
        "# while = início do loop\n",
        "# fim = variável de controle\n",
        "# == False = condição de teste\n",
        "# print = é o bloco de ações repetitivas\n",
        "# fim = Final do loop"
      ],
      "metadata": {
        "id": "5XQ9t2ZX37_z"
      },
      "execution_count": null,
      "outputs": []
    },
    {
      "cell_type": "markdown",
      "source": [
        "#while com controle numérico\n",
        "###Exemplo: digite números quaisquer até a soma deles ultrapassar 20."
      ],
      "metadata": {
        "id": "0682OULT5Di2"
      }
    },
    {
      "cell_type": "code",
      "source": [
        "soma = 0\n",
        "while soma < 20:\n",
        "  n = float(input('Digite um número: '))\n",
        "  soma += n\n",
        "print('a soma final foi de {:.2f}'.format(soma))"
      ],
      "metadata": {
        "colab": {
          "base_uri": "https://localhost:8080/"
        },
        "id": "PjrVswut_n4p",
        "outputId": "f4514ee4-6b8a-42bd-b2d7-d4fce9ec1495"
      },
      "execution_count": 23,
      "outputs": [
        {
          "output_type": "stream",
          "name": "stdout",
          "text": [
            "Digite um número: 4\n",
            "Digite um número: 5\n",
            "Digite um número: 6\n",
            "Digite um número: 7\n",
            "a soma final foi de 22.00\n"
          ]
        }
      ]
    },
    {
      "cell_type": "markdown",
      "source": [
        "#RISCOS DE TRABALHAR COM LOOP\n",
        "###LOOP INFINITO\n",
        "Por exemplo: Vamos calcular a soma de números digitados pelo usuário\n",
        "\n",
        "#COMANDO BREAK\n",
        "O comando \"break\" serve para interromper e sair do loop assim que ele é usado."
      ],
      "metadata": {
        "id": "fAR19A47Ae1e"
      }
    },
    {
      "cell_type": "code",
      "source": [
        "#LOOP INFINITO COM BREAK\n",
        "\n",
        "soma = 0\n",
        "while True:\n",
        "  n = float(input('Digite um número: '))\n",
        "  soma += n\n",
        "  continua = input('Quer continuar (s/n): ')\n",
        "  if continua == 'n':\n",
        "    break\n",
        "print('a soma final foi de {:.2f}'.format(soma))"
      ],
      "metadata": {
        "id": "25zqceDkAQNl"
      },
      "execution_count": null,
      "outputs": []
    },
    {
      "cell_type": "markdown",
      "source": [
        "#EXEMPLOS CLÁSSICOS DE USO DO BREAK\n",
        "### => Caso o usuário tenha digitado algum valor que o programa não consiga compilar\n",
        "### => Caso o programa esteja tendendo para um resultado impossível (ML)\n",
        "### => Caso a condição principal do programa seja satisfeita antes do final do loop (ML)\n",
        "### => Cadastro de múltiplas entradas em bancos de dados\n",
        "### => Adição de ítens no carrinho de compras numa loja online"
      ],
      "metadata": {
        "id": "i_d2V-pMBr6C"
      }
    },
    {
      "cell_type": "code",
      "source": [
        "# R E S U M O   D A   A U L A\n",
        "\n",
        "# Estrutura de Loop\n",
        "passo = (range(1,10)\n",
        "for i in passo:\n",
        "  print('For: Execute')\n",
        "\n",
        "j = True\n",
        "while j == True:\n",
        "  print('While: Execute')\n",
        "  j = False\n",
        "\n",
        "# Break\n",
        "while j == True:\n",
        "  ...\n",
        "  if True:\n",
        "    break\n"
      ],
      "metadata": {
        "id": "zjLU-aYtEI12"
      },
      "execution_count": null,
      "outputs": []
    }
  ]
}