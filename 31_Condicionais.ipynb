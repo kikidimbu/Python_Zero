{
  "nbformat": 4,
  "nbformat_minor": 0,
  "metadata": {
    "colab": {
      "name": "31 - Condicionais.ipynb",
      "provenance": [],
      "collapsed_sections": []
    },
    "kernelspec": {
      "name": "python3",
      "display_name": "Python 3"
    },
    "language_info": {
      "name": "python"
    }
  },
  "cells": [
    {
      "cell_type": "markdown",
      "source": [
        "MÓDULO 4 - CONDICIONAIS\n",
        "\n",
        "1 = Comparadores\n",
        "\n",
        "2 = Estrutura simples: if-else\n",
        "\n",
        "3 = Estrutura composta: if-elif-else\n",
        "\n",
        "4 = Multiplas condições: and e or\n",
        "\n",
        "5 = Verificar variáveis: .isnumeric(), .isalpha(), ...\n",
        "\n",
        "CONDICIONAIS: Se algo é verdade, faça uma coisa, senão faça outra coisa.\n",
        "\n"
      ],
      "metadata": {
        "id": "6fR7gQlI0xRY"
      }
    },
    {
      "cell_type": "code",
      "execution_count": null,
      "metadata": {
        "id": "4vzjgpEn0pCE"
      },
      "outputs": [],
      "source": [
        "if True\n",
        "print('É True')\n",
        "else:\n",
        "  print ('É False')"
      ]
    },
    {
      "cell_type": "markdown",
      "source": [
        "OS COMPARADORES\n",
        "\n",
        "Eles são a nossa ferramenta principal de verificação:\n",
        "\n",
        "Com os comparadores se utiliza a variável bool\n",
        "\n",
        "7 == 2 ? FALSE igual\n",
        "\n",
        "7 != 2 ? TRUE Diferente\n",
        "\n",
        "7   > 2 ? TRUE Maior\n",
        "\n",
        "7 >= 2 ? TRUE Maior ou igual\n",
        "\n",
        "7   < 2 ? FALSE Menor\n",
        "\n",
        "7 <= 2 ? FALSE Menor ou igual\n",
        "\n",
        "\n",
        "\n"
      ],
      "metadata": {
        "id": "OT5gmcTM1yY-"
      }
    },
    {
      "cell_type": "code",
      "source": [
        ""
      ],
      "metadata": {
        "id": "4Oho0Enf1n2J"
      },
      "execution_count": null,
      "outputs": []
    },
    {
      "cell_type": "markdown",
      "source": [
        "COMO E ONDE USAR CONDICIONAIS?\n",
        "\n",
        "vontade = comida - \n",
        "\n",
        "Código: vontade == comida? \n",
        "\n",
        "Opção 1: TRUE................................Opção 2: FALSE\n",
        "\n",
        "Passo 1: Fazer comida...................Passo 1: Pedir uma pizza\n",
        "\n",
        "Passo 2: Comer a comida..............Passo 2: Comer a pizza\n",
        "\n",
        "                Finaliza com: Fome satisfeita\n",
        "\n",
        "\n",
        "\n",
        "\n",
        "\n",
        "\n",
        "\n"
      ],
      "metadata": {
        "id": "2G2T2DQ32R5B"
      }
    },
    {
      "cell_type": "code",
      "source": [
        "#if\n",
        "#elif\n",
        "#else\n",
        "#end\n",
        "\n",
        "#or\n",
        "#and"
      ],
      "metadata": {
        "id": "ERCcRNFx2UGz"
      },
      "execution_count": null,
      "outputs": []
    },
    {
      "cell_type": "markdown",
      "source": [
        "VALIDAÇÃO DE VARIÁRVEIS\n"
      ],
      "metadata": {
        "id": "pK1B76zN2SV_"
      }
    },
    {
      "cell_type": "code",
      "source": [
        "#.isnumeric() # o input é numérico?\n",
        "#.isalpha() # o input é texto?\n",
        "#.isalnum() # o input é texto + num?\n",
        "#var = input('Digite algo: ')\n",
        "#var.isalpha()\n",
        "#A RESPOSTA PARA A VALIDAÇÃO DE DADOS É SEMPRE TIPO BOOL\n",
        "\n",
        "\n"
      ],
      "metadata": {
        "id": "Uo25F3s72Tlo"
      },
      "execution_count": null,
      "outputs": []
    },
    {
      "cell_type": "markdown",
      "source": [
        ""
      ],
      "metadata": {
        "id": "Cb0xDZfK2S4s"
      }
    }
  ]
}