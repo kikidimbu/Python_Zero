{
  "nbformat": 4,
  "nbformat_minor": 0,
  "metadata": {
    "colab": {
      "name": "34 - Lista_exercicios.ipynb",
      "provenance": [],
      "collapsed_sections": []
    },
    "kernelspec": {
      "name": "python3",
      "display_name": "Python 3"
    },
    "language_info": {
      "name": "python"
    }
  },
  "cells": [
    {
      "cell_type": "markdown",
      "source": [
        "### **CONDICIONAIS**\n",
        "### EXERCÍCIOS\n",
        "*Você deverá utilizar o que aprendeu nas aulas de condicionais para\n",
        "desenvolver os desafios a seguir:*\n",
        "\n",
        "1 - Seu primeiro desafio é desenvolver um programa para um depósito de\n",
        "bebidas que valide venda de bebidas para maiores de idade (maior ou\n",
        "igual 18 anos) no mercado, o programa deve receber do usuário os\n",
        "valores do nome e ano que ele nasceu e retornar se ele pode comprar\n",
        "bebidas."
      ],
      "metadata": {
        "id": "iAVcpx3aN0gy"
      }
    },
    {
      "cell_type": "code",
      "execution_count": 18,
      "metadata": {
        "colab": {
          "base_uri": "https://localhost:8080/"
        },
        "id": "J29AukPBLIUr",
        "outputId": "4430c6cc-ef8a-4c8e-e95e-2f42c5881e93"
      },
      "outputs": [
        {
          "output_type": "stream",
          "name": "stdout",
          "text": [
            "S I S T E M A   P A R A   C O N F E R I R   M A I O R I D A D E\n",
            "\n",
            "                              ATENÇÃO!\n",
            "\n",
            "            Informe ao sistema sempre dados verídicos\n",
            "                        sujeito à penas da lei.\n",
            "\n",
            "Informe seu nome completo: Kiki Dimbu\n",
            "Informe o ano em que nasceu: 2002\n",
            "Olá. Seja bem-vindo,  Kiki Dimbu . Você já pode adquirir bebidas alcoólicas.\n",
            "\n",
            "Fim do programa\n"
          ]
        }
      ],
      "source": [
        "print('S I S T E M A   P A R A   C O N F E R I R   M A I O R I D A D E')\n",
        "print()\n",
        "print(' '*29, 'ATENÇÃO!')\n",
        "print()\n",
        "print(' '*11, 'Informe ao sistema sempre dados verídicos')\n",
        "print(' '*23, 'sujeito à penas da lei.')\n",
        "print()\n",
        "\n",
        "nome = input('Informe seu nome completo: ')\n",
        "ano_nasc = int(input('Informe o ano em que nasceu: '))\n",
        "ano_atual = int(2022)\n",
        "idade = ano_atual - ano_nasc\n",
        "diferenca = 18 - idade\n",
        "\n",
        "if idade >= 18:\n",
        "  print('Olá. Seja bem-vindo, ', nome, '. Você já pode adquirir bebidas alcoólicas.')\n",
        "elif diferenca == 1 :\n",
        "  print('Olá. Seja bem-vindo, ', nome, '. Você ainda precisa esperar ', diferenca, 'ano para adquirir bebidas alcoólicas.')\n",
        "else:\n",
        "  print('Olá. Seja bem-vindo, ', nome, '. Você ainda precisa esperar ', diferenca, 'anos para adquirir bebidas alcoólicas.')\n",
        "print()\n",
        "print(\"Fim do programa\")"
      ]
    },
    {
      "cell_type": "markdown",
      "source": [
        "2 - Esse bimestre na faculdade você precisa tirar nota 8 de média para\n",
        "passar na matéria, desenvolva um script que leia a nota de suas\n",
        "últimas 3 provas, tire a média delas e verifique se você passou."
      ],
      "metadata": {
        "id": "Oeh80VFdOoEM"
      }
    },
    {
      "cell_type": "code",
      "source": [
        "print('PROGRAMA PARA CÁLCULOS DE MÉDIA')\n",
        "print()\n",
        "nota1 = float(input(\"Informe o valor da sua primeira nota: \"))\n",
        "nota2 = float(input(\"Informe o valor da sua segunda nota: \"))\n",
        "nota3 = float(input(\"Informe o valor da sua terceira nota: \"))\n",
        "media = (nota1 + nota2 + nota3)/3\n",
        "\n",
        "if media >= 8:\n",
        "  print('Você foi aprovado, sua média para este bimestre é: {:.2f}'.format(media))\n",
        "else:\n",
        "  print('Você não alcançou o valor mínimo e foi reprovado, sua média bimestrral foi: {:.2f}'.format(media))\n",
        "print()\n",
        "print('Fim do programa')\n"
      ],
      "metadata": {
        "colab": {
          "base_uri": "https://localhost:8080/"
        },
        "id": "gcFj-8ubOnr4",
        "outputId": "0b03a7d1-abf5-45a6-9564-67561f56dca9"
      },
      "execution_count": 20,
      "outputs": [
        {
          "output_type": "stream",
          "name": "stdout",
          "text": [
            "PROGRAMA PARA CÁLCULOS DE MÉDIA\n",
            "\n",
            "Informe o valor da sua primeira nota: 7\n",
            "Informe o valor da sua segunda nota: 9\n",
            "Informe o valor da sua terceira nota: 8\n",
            "Você foi aprovado, sua média para este bimestre é: 8.00\n",
            "\n",
            "Fim do programa\n"
          ]
        }
      ]
    },
    {
      "cell_type": "markdown",
      "source": [
        "3 - A fisioterapeuta que você vai gosta muito de brincar com números, e\n",
        "pediu para você criar um sistema que verifique se a altura inserida é\n",
        "par ou impar.8\n"
      ],
      "metadata": {
        "id": "VCr3osm8Ot1f"
      }
    },
    {
      "cell_type": "code",
      "source": [
        "print('P R O G R A M A   P A R A   C O N F E R I R   A L T U R A')\n",
        "print()\n",
        "print(' '*25,'ATENÇÃO!')\n",
        "print()\n",
        "print(' '*7,'Utilize . como separador para casas decimais.')\n",
        "print()\n",
        "\n",
        "altura = float(input('Informe a sua altura: '))\n",
        "calculo = altura % 2\n",
        "\n",
        "if calculo != 0:\n",
        "  print('A altura informada é ímpar.')\n",
        "else:\n",
        "  print('A altura informada é par.')\n",
        "print()\n",
        "print('Fim do programa')\n",
        "\n"
      ],
      "metadata": {
        "colab": {
          "base_uri": "https://localhost:8080/"
        },
        "id": "Ho9o2ZF0OunM",
        "outputId": "19ee9bed-2a5c-48ba-8a9f-96001335ec1b"
      },
      "execution_count": 21,
      "outputs": [
        {
          "output_type": "stream",
          "name": "stdout",
          "text": [
            "P R O G R A M A   P A R A   C O N F E R I R   A L T U R A\n",
            "\n",
            "                          ATENÇÃO!\n",
            "\n",
            "        Utilize . como separador para casas decimais.\n",
            "\n",
            "Informe a sua altura: 180\n",
            "A altura informada é par.\n",
            "\n",
            "Fim do programa\n"
          ]
        }
      ]
    },
    {
      "cell_type": "markdown",
      "source": [
        "4 - Faça um script que você coloque a quantidade de dias e descubra em\n",
        "qual trimestre esse dia está no ano.\n"
      ],
      "metadata": {
        "id": "USGd8rBtOyhu"
      }
    },
    {
      "cell_type": "code",
      "source": [
        "print('S I S T E M A   P A R A   O B S E R V A Ç Ã O   D E   D A T A S   P O R   T R I M E S T R E')\n",
        "print()\n",
        "data_valor = int(input('Tendo como base 366 dias no ano, qual valor corresponde à data que você quer buscar: '))\n",
        "\n",
        "if data_valor <= 92:\n",
        "  print('Esta data está dentro do primeiro trimestre')\n",
        "elif data_valor <= 183:\n",
        "  print('Esta data está dentro do segundo trimestre')\n",
        "elif data_valor <= 275:\n",
        "  print('Esta data está dentro do terceiro trimestre')\n",
        "else:\n",
        "  print('Esta data está dentro do quarto trimestre')\n",
        "print()\n",
        "print('Fim do programa')\n",
        "\n"
      ],
      "metadata": {
        "colab": {
          "base_uri": "https://localhost:8080/"
        },
        "id": "5-N2LnMDOyNl",
        "outputId": "d4d4b593-db3f-4da2-8359-65096ad02227"
      },
      "execution_count": 26,
      "outputs": [
        {
          "output_type": "stream",
          "name": "stdout",
          "text": [
            "S I S T E M A   P A R A   O B S E R V A Ç Ã O   D E   D A T A S   P O R   T R I M E S T R E\n",
            "\n",
            "Tendo como base 366 dias no ano, qual valor corresponde à data que você quer buscar: 290\n",
            "Esta data está dentro do quarto trimestre\n",
            "\n",
            "Fim do programa\n"
          ]
        }
      ]
    },
    {
      "cell_type": "markdown",
      "source": [
        "5 - Desenvolva um sistema que leia 3 números e diga qual é o maior (se\n",
        "houver empate, exiba os empatados)."
      ],
      "metadata": {
        "id": "P4LDFOKRO3vc"
      }
    },
    {
      "cell_type": "code",
      "source": [
        "print('S I S T E M A   D E   C O M P A R A Ç Ã O   N U M É R I C A')\n",
        "print()\n",
        "num1 = int(input('Informe o primeiro valor a ser comparado: '))\n",
        "num2 = int(input('Informe o segundo valor a ser comparado: '))\n",
        "num3 = int(input('Informe o terceiro valor a ser comparado: '))\n",
        "\n",
        "if num1 == num2:\n",
        "  print(\"Os valores informados são idênticos na primeira e segunda posições.\")\n",
        "  print('Primeiro = {0}, Segundo = {1}, Terceiro = {2}'.format(num1,num2,num3))\n",
        "elif num1 == num3:\n",
        "  print(\"Os valores informados são idênticos na primeira e terceira posições.\")\n",
        "  print('Primeiro = {0}, Segundo = {1}, Terceiro = {2}'.format(num1,num2,num3))\n",
        "elif num2 == num3:\n",
        "  print(\"Os valores informados são idênticos na segunda e terceira posições.\")\n",
        "  print('Primeiro = {0}, Segundo = {1}, Terceiro = {2}'.format(num1,num2,num3))  \n",
        "elif num1 < num2 and num2 < num3:\n",
        "  print(\"Os valores informados serão exibidos na ordem crescente:\")\n",
        "  print('{}, {} e {}'.format(num1,num2,num3))\n",
        "elif num1 < num3 and num3 < num2:\n",
        "  print(\"Os valores informados serão exibidos na ordem crescente:\")\n",
        "  print('{}, {} e {}'.format(num1,num3,num2))\n",
        "elif num2 < num1 and num1 < num3:\n",
        "  print(\"Os valores informados serão exibidos na ordem crescente:\")\n",
        "  print('{}, {} e {}'.format(num2,num1,num3))\n",
        "elif num2 < num3 and num3 < num1:\n",
        "  print(\"Os valores informados serão exibidos na ordem crescente:\")\n",
        "  print('{}, {} e {}'.format(num2,num3,num1))\n",
        "elif num3 < num2 and num2 < num1:\n",
        "  print(\"Os valores informados serão exibidos na ordem crescente:\")\n",
        "  print('{}, {} e {}'.format(num3,num2,num1))\n",
        "else:\n",
        "  print(\"Os valores informados serão exibidos na ordem crescente:\")\n",
        "  print('{}, {} e {}'.format(num3,num1,num2))\n",
        "\n",
        "print()\n",
        "print('Fim do programa')\n"
      ],
      "metadata": {
        "colab": {
          "base_uri": "https://localhost:8080/"
        },
        "id": "lcAxamseO4EX",
        "outputId": "3a49c77b-0a43-45db-f891-53beb86e47b2"
      },
      "execution_count": 37,
      "outputs": [
        {
          "output_type": "stream",
          "name": "stdout",
          "text": [
            "S I S T E M A   D E   C O M P A R A Ç Ã O   N U M É R I C A\n",
            "\n",
            "Informe o primeiro valor a ser comparado: 1\n",
            "Informe o segundo valor a ser comparado: 2\n",
            "Informe o terceiro valor a ser comparado: 2\n",
            "Os valores informados são idênticos na segunda e terceira posições.\n",
            "Primeiro = 1, Segundo = 2, Terceiro = 2\n",
            "\n",
            "Fim do programa\n"
          ]
        }
      ]
    },
    {
      "cell_type": "code",
      "source": [
        "\n"
      ],
      "metadata": {
        "id": "T4AhcAiYe6iF"
      },
      "execution_count": null,
      "outputs": []
    }
  ]
}