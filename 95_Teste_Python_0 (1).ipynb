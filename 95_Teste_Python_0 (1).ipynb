{
  "nbformat": 4,
  "nbformat_minor": 0,
  "metadata": {
    "colab": {
      "name": "95 - Teste Python 0.ipynb",
      "provenance": [],
      "collapsed_sections": []
    },
    "kernelspec": {
      "name": "python3",
      "display_name": "Python 3"
    },
    "language_info": {
      "name": "python"
    }
  },
  "cells": [
    {
      "cell_type": "markdown",
      "source": [
        "Questão 1  - Verdadeira\n",
        "\n",
        "Questão 2 - 103, 104.0 e 1390\n",
        "\n",
        "Questão 3 - III falsa"
      ],
      "metadata": {
        "id": "ZPFnaOdngsrA"
      }
    },
    {
      "cell_type": "markdown",
      "source": [
        "Questão 4 - Todas ok"
      ],
      "metadata": {
        "id": "_zxhbJTWX8yE"
      }
    },
    {
      "cell_type": "code",
      "execution_count": 1,
      "metadata": {
        "colab": {
          "base_uri": "https://localhost:8080/"
        },
        "id": "0qtfmChiV26b",
        "outputId": "a71ccd3e-f2d9-4fa7-fc3d-d42a88afa713"
      },
      "outputs": [
        {
          "output_type": "stream",
          "name": "stdout",
          "text": [
            "Nasci em São José dos Campos uma cidade do interior do estado de São Paulo que pertence a região Sudeste do Brasil\n",
            "Nasci em  São José dos Campos  uma cidade do interior do estado de  São Paulo  que pertence a região Sudeste do  Brasil\n",
            "Nasci em São José dos Campos uma cidade do interior do estado de São Paulo que pertence a região Sudeste do Brasil\n"
          ]
        }
      ],
      "source": [
        "cidade = 'São José dos Campos'\n",
        "estado = 'São Paulo'\n",
        "pais = 'Brasil'\n",
        "\n",
        "print(\"Nasci em \" + cidade + \" uma cidade do interior do estado de \" + estado + \" que pertence a região Sudeste do \" + pais )\n",
        "print(\"Nasci em \", cidade, \" uma cidade do interior do estado de \", estado, \" que pertence a região Sudeste do \", pais )\n",
        "print(\"Nasci em {} uma cidade do interior do estado de {} que pertence a região Sudeste do {}\".format(cidade,estado,pais))"
      ]
    },
    {
      "cell_type": "markdown",
      "source": [
        "Questão 5: O resultado da divisão de 59 por 7, resulta em 8.4286 e o resto dessa divisão é 3"
      ],
      "metadata": {
        "id": "TNB5gsP5X5yN"
      }
    },
    {
      "cell_type": "code",
      "source": [
        "a= 59 \n",
        "b= 7 \n",
        "print(\"O resultado da divisão de {} por {}, resulta em {:6.4f} e o resto dessa divisão é {}\".format (a,b,a/b, a%b))"
      ],
      "metadata": {
        "colab": {
          "base_uri": "https://localhost:8080/"
        },
        "id": "qW6437KxW-b3",
        "outputId": "50bc7d33-4ef5-4cbe-d847-2c1864f494fa"
      },
      "execution_count": 4,
      "outputs": [
        {
          "output_type": "stream",
          "name": "stdout",
          "text": [
            "O resultado da divisão de 59 por 7, resulta em 8.4286 e o resto dessa divisão é 3\n"
          ]
        }
      ]
    },
    {
      "cell_type": "markdown",
      "source": [
        "Questão 6 - Nâo é possível realizar cálculos entre Str e Float. Deveria ter convertido o input de saldo em float ou int"
      ],
      "metadata": {
        "id": "Jj2l4He8YDPv"
      }
    },
    {
      "cell_type": "code",
      "source": [
        "preco_peca = float(input('Qual o preço da peça? '))\n",
        "saldo = input('Qual é o seu saldo?')\n",
        "if preco_peca <= saldo:\n",
        "  print('Você pode comprar a peça e o seu troco será de: R$ {}'.format(saldo-preco_peca))\n",
        "else:\n",
        "  print('Você não possui saldo suficiente para comprar a peça, faltam: R$ {}'.format(preco_peca-saldo))\n",
        "\n",
        "print('Fim')\n",
        "\n",
        "\n"
      ],
      "metadata": {
        "colab": {
          "base_uri": "https://localhost:8080/",
          "height": 281
        },
        "id": "FUHx7Q4RXUYd",
        "outputId": "5e6beea3-58c0-4407-d844-ff7f71db09a2"
      },
      "execution_count": 6,
      "outputs": [
        {
          "name": "stdout",
          "output_type": "stream",
          "text": [
            "Qual o preço da peça? 10\n",
            "Qual é o seu saldo?9\n"
          ]
        },
        {
          "output_type": "error",
          "ename": "TypeError",
          "evalue": "ignored",
          "traceback": [
            "\u001b[0;31m---------------------------------------------------------------------------\u001b[0m",
            "\u001b[0;31mTypeError\u001b[0m                                 Traceback (most recent call last)",
            "\u001b[0;32m<ipython-input-6-a4ee9b8f9ddd>\u001b[0m in \u001b[0;36m<module>\u001b[0;34m()\u001b[0m\n\u001b[1;32m      1\u001b[0m \u001b[0mpreco_peca\u001b[0m \u001b[0;34m=\u001b[0m \u001b[0mfloat\u001b[0m\u001b[0;34m(\u001b[0m\u001b[0minput\u001b[0m\u001b[0;34m(\u001b[0m\u001b[0;34m'Qual o preço da peça? '\u001b[0m\u001b[0;34m)\u001b[0m\u001b[0;34m)\u001b[0m\u001b[0;34m\u001b[0m\u001b[0;34m\u001b[0m\u001b[0m\n\u001b[1;32m      2\u001b[0m \u001b[0msaldo\u001b[0m \u001b[0;34m=\u001b[0m \u001b[0minput\u001b[0m\u001b[0;34m(\u001b[0m\u001b[0;34m'Qual é o seu saldo?'\u001b[0m\u001b[0;34m)\u001b[0m\u001b[0;34m\u001b[0m\u001b[0;34m\u001b[0m\u001b[0m\n\u001b[0;32m----> 3\u001b[0;31m \u001b[0;32mif\u001b[0m \u001b[0mpreco_peca\u001b[0m \u001b[0;34m<=\u001b[0m \u001b[0msaldo\u001b[0m\u001b[0;34m:\u001b[0m\u001b[0;34m\u001b[0m\u001b[0;34m\u001b[0m\u001b[0m\n\u001b[0m\u001b[1;32m      4\u001b[0m   \u001b[0mprint\u001b[0m\u001b[0;34m(\u001b[0m\u001b[0;34m'Você pode comprar a peça e o seu troco será de: R$ {}'\u001b[0m\u001b[0;34m.\u001b[0m\u001b[0mformat\u001b[0m\u001b[0;34m(\u001b[0m\u001b[0msaldo\u001b[0m\u001b[0;34m-\u001b[0m\u001b[0mpreco_peca\u001b[0m\u001b[0;34m)\u001b[0m\u001b[0;34m)\u001b[0m\u001b[0;34m\u001b[0m\u001b[0;34m\u001b[0m\u001b[0m\n\u001b[1;32m      5\u001b[0m \u001b[0;32melse\u001b[0m\u001b[0;34m:\u001b[0m\u001b[0;34m\u001b[0m\u001b[0;34m\u001b[0m\u001b[0m\n",
            "\u001b[0;31mTypeError\u001b[0m: '<=' not supported between instances of 'float' and 'str'"
          ]
        }
      ]
    },
    {
      "cell_type": "markdown",
      "source": [
        "Questão 8 - O código não funcionaria, pois a tupla não possui 4 elementos e a linguagem Python é case sensitive\n",
        "\n",
        "t1 = ('Banana', 'Abacate', 'Morango') #tupla\n",
        "\n",
        "posicao = t1.index('morango') \n",
        "\n",
        "terceiroelemento = t1[3] \n",
        "\n",
        "print(posicao, terceiroelemento)"
      ],
      "metadata": {
        "id": "zRk0zGELa_p6"
      }
    },
    {
      "cell_type": "code",
      "source": [
        "t1 = ('Banana', 'Abacate', 'Morango')#tupla \n",
        "posicao = t1.index('Morango')\n",
        "terceiroelemento = t1[2]\n",
        "#terceiroelemento = t1[3]\n",
        "print(posicao, terceiroelemento)"
      ],
      "metadata": {
        "colab": {
          "base_uri": "https://localhost:8080/"
        },
        "id": "4LW_hz4mYRLR",
        "outputId": "785d4767-e636-4258-a440-aa84fde68b26"
      },
      "execution_count": 22,
      "outputs": [
        {
          "output_type": "stream",
          "name": "stdout",
          "text": [
            "2 Morango\n"
          ]
        }
      ]
    },
    {
      "cell_type": "markdown",
      "source": [
        "Questão 9\n",
        "Fiquei em dúvida apenas sobre remove que não foi muito bem elaborada sua definição.\n",
        "\n",
        "append - adiciona na última posição\n",
        "\n",
        "insert - adiciona com posição e valores definidos\n",
        "\n",
        "del - deleta a posição\n",
        "\n",
        "pop - deleta da posição e insere em variável\n",
        "\n",
        "remove - delete o primeiro valor apresentado na lista = ao comparado"
      ],
      "metadata": {
        "id": "vKABVRdBhahB"
      }
    },
    {
      "cell_type": "markdown",
      "source": [
        "Questão 10 \n",
        "\n",
        "A partir do código representado na imagem ao lado, qual será o output de \"print(l5)\"?"
      ],
      "metadata": {
        "id": "mLQTYm1Rerpf"
      }
    },
    {
      "cell_type": "code",
      "source": [
        "l1 = [1,5,12,14,15,20]\n",
        "l2 = [2,3,7,10,11]\n",
        "l3 = l2 [:] #>- cópia\n",
        "l4 = l2 #>- clonagem\n",
        "l4.pop()\n",
        "l5 = []\n",
        "\n",
        "for v1, v2 in zip (l1,l2):\n",
        "  l5.append(v1+v2)\n",
        "  print(f\"v1 = {v1}, v2 = {v2}\")\n",
        "  \n",
        "print(l5)"
      ],
      "metadata": {
        "colab": {
          "base_uri": "https://localhost:8080/"
        },
        "id": "4cXR1jsAbL8E",
        "outputId": "0aa741a7-1b46-4e33-d085-c0db48aa946f"
      },
      "execution_count": 23,
      "outputs": [
        {
          "output_type": "stream",
          "name": "stdout",
          "text": [
            "v1 = 1, v2 = 2\n",
            "v1 = 5, v2 = 3\n",
            "v1 = 12, v2 = 7\n",
            "v1 = 14, v2 = 10\n",
            "[3, 8, 19, 24]\n"
          ]
        }
      ]
    },
    {
      "cell_type": "code",
      "source": [
        ""
      ],
      "metadata": {
        "id": "Z-6jfkL-gXXQ"
      },
      "execution_count": null,
      "outputs": []
    }
  ]
}