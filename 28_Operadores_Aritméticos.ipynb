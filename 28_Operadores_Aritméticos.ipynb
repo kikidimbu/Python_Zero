{
  "nbformat": 4,
  "nbformat_minor": 0,
  "metadata": {
    "colab": {
      "name": "28 - Operadores Aritméticos.ipynb",
      "provenance": [],
      "collapsed_sections": []
    },
    "kernelspec": {
      "name": "python3",
      "display_name": "Python 3"
    },
    "language_info": {
      "name": "python"
    }
  },
  "cells": [
    {
      "cell_type": "markdown",
      "source": [
        "**OPERADORES ARITMÉTICOS**\n",
        "\n",
        "**Os operadores aritméticos mais usados são:**\n",
        "\n",
        "*   Soma (+)\n",
        "*   Subtração (-)\n",
        "*   Multiplicação (*)\n",
        "*   Divisão (/)\n",
        "*   Potência (**)\n",
        "*   Divisão inteira (//)\n",
        "*   Resto da divisão (%)\n",
        "*   Atribuição de valor (=)\n",
        "*   Cálculo (==)\n",
        "\n",
        "**Operadores que funcionam com str e suas funções:**\n",
        "\n",
        "*   Concatenar (+)\n",
        "*   Repetir n vezes (*)"
      ],
      "metadata": {
        "id": "Y0kdcAi--HzT"
      }
    },
    {
      "cell_type": "code",
      "execution_count": null,
      "metadata": {
        "colab": {
          "base_uri": "https://localhost:8080/"
        },
        "id": "xVzrv7P399ly",
        "outputId": "a4caff9e-da26-4586-8d3b-59e1004dd79b"
      },
      "outputs": [
        {
          "output_type": "stream",
          "name": "stdout",
          "text": [
            "7+2 = 9\n",
            "7-2 = 5\n",
            "7*2 = 14\n",
            "7/2 = 3.5\n",
            "7**2 = 49\n",
            "7//2 = 3\n",
            "7%2 = 1\n"
          ]
        }
      ],
      "source": [
        "print('7+2 =', 7+2)\n",
        "print ('7-2 =', 7-2)\n",
        "print('7*2 =', 7*2)\n",
        "print('7/2 =', 7/2)\n",
        "print('7**2 =', 7**2)\n",
        "print('7//2 =', 7//2)\n",
        "print('7%2 =',)"
      ]
    },
    {
      "cell_type": "code",
      "source": [
        "print('Kiki' + ' Dimbu')\n",
        "print('Kiki Dimbu ' * 5)"
      ],
      "metadata": {
        "colab": {
          "base_uri": "https://localhost:8080/"
        },
        "id": "L4LxL7hi-9eO",
        "outputId": "5df04ad3-477c-4722-bb34-6daa3c305063"
      },
      "execution_count": null,
      "outputs": [
        {
          "output_type": "stream",
          "name": "stdout",
          "text": [
            "Kiki Dimbu\n",
            "Kiki Dimbu Kiki Dimbu Kiki Dimbu Kiki Dimbu Kiki Dimbu \n"
          ]
        }
      ]
    },
    {
      "cell_type": "code",
      "source": [
        "print('-'*21)\n",
        "print('-'+ ' '*5 + 'Bem Vindo' + ' '*5 + '-')\n",
        "print('-'*21)"
      ],
      "metadata": {
        "colab": {
          "base_uri": "https://localhost:8080/"
        },
        "id": "S64TGx2aBoN1",
        "outputId": "6e1f9c3f-6058-4b25-c522-75fc4b1c79c1"
      },
      "execution_count": null,
      "outputs": [
        {
          "output_type": "stream",
          "name": "stdout",
          "text": [
            "---------------------\n",
            "-     Bem Vindo     -\n",
            "---------------------\n"
          ]
        }
      ]
    },
    {
      "cell_type": "markdown",
      "source": [
        "**Ordem de precedência na aritmética:**\n",
        "\n",
        "1 - ( )\n",
        "\n",
        "2 - **\n",
        "\n",
        "3 - * / % //\n",
        "\n",
        "4 - + - "
      ],
      "metadata": {
        "id": "ggEHZqxJDWhk"
      }
    },
    {
      "cell_type": "code",
      "source": [
        "print('7+2*4 =', 7+2*4)\n",
        "print('(7+2)*4 =', (7+2)*4)"
      ],
      "metadata": {
        "colab": {
          "base_uri": "https://localhost:8080/"
        },
        "id": "YUpQW7rzCt19",
        "outputId": "4eb25670-4c21-4ca0-b65a-f4025aa1067c"
      },
      "execution_count": null,
      "outputs": [
        {
          "output_type": "stream",
          "name": "stdout",
          "text": [
            "7+2*4 = 15\n",
            "(7+2)*4 = 36\n"
          ]
        }
      ]
    },
    {
      "cell_type": "markdown",
      "source": [
        "**Transformando variáveis**\n",
        "\n",
        "Quando as variáveis vierem num formato que não conseguimos manipular como queremos. Por exemplo, após o input()\n",
        "\n",
        "int()   # Converte variável para inteiro\n",
        "\n",
        "float() # Converte variável para número decimal (real)\n",
        "\n",
        "str()   # Converte variável para string"
      ],
      "metadata": {
        "id": "XYmXgTJmFFKb"
      }
    },
    {
      "cell_type": "code",
      "source": [
        "print('1 - int(1.857) =', int(1.857)), print(type(int(1.857)))\n",
        "print(\"2 - int('4') =\", int('4')), print(type(int('4')))\n",
        "print('3 - int(True) =', int(True)), print(type(int(True)))\n",
        "print('4 - int(False) =', int(False)), print(type(int(False)))\n",
        "print(\"5 - int('tex34') = ValueError: invalid literal for int() with base 10: 'text34'\")"
      ],
      "metadata": {
        "colab": {
          "base_uri": "https://localhost:8080/"
        },
        "id": "tAf6dYF6EBTl",
        "outputId": "15db1ea3-ca2c-4907-b902-8f98bb3a7bb1"
      },
      "execution_count": null,
      "outputs": [
        {
          "output_type": "stream",
          "name": "stdout",
          "text": [
            "1 - int(1.857) = 1\n",
            "<class 'int'>\n",
            "2 - int('4') = 4\n",
            "<class 'int'>\n",
            "3 - int(True) = 1\n",
            "<class 'int'>\n",
            "4 - int(False) = 0\n",
            "<class 'int'>\n",
            "5 - int('tex34') = ValueError: invalid literal for int() with base 10: 'text34'\n"
          ]
        }
      ]
    },
    {
      "cell_type": "code",
      "source": [
        "print('1 - float(1.857) =', float(1.857)), print(type(float(1.857)))\n",
        "print(\"2 - float('4') =\", float('4')), print(type(float('4')))\n",
        "print('3 - float(True) =', float(True)), print(type(float(True)))\n",
        "print('4 - float(False) =', float(False)), print(type(float(False)))\n",
        "print(\"5 - float('tex34') = ValueError: could not convert string to float: 'text34'\")"
      ],
      "metadata": {
        "id": "UjnbT0_qHgDl",
        "colab": {
          "base_uri": "https://localhost:8080/"
        },
        "outputId": "3c7ac710-56c2-4e59-fa2e-1244d6aab886"
      },
      "execution_count": null,
      "outputs": [
        {
          "output_type": "stream",
          "name": "stdout",
          "text": [
            "1 - float(1.857) = 1.857\n",
            "<class 'float'>\n",
            "2 - float('4') = 4.0\n",
            "<class 'float'>\n",
            "3 - float(True) = 1.0\n",
            "<class 'float'>\n",
            "4 - float(False) = 0.0\n",
            "<class 'float'>\n",
            "5 - float('tex34') = ValueError: could not convert string to float: 'text34'\n"
          ]
        }
      ]
    },
    {
      "cell_type": "code",
      "source": [
        "print('1 - str(1.857) =', str(1)), print(type(str(1)))\n",
        "print(\"2 - str('4') =\", str('2.758')), print(type(str('2.758')))\n",
        "print('3 - str(True) =', str(True)), print(type(str(True)))\n",
        "print('4 - str(False) =', str(False)), print(type(str(False)))\n",
        "print(\"5 - str('tex34') = SyntaxError: unexpected EOF while parsing.\")"
      ],
      "metadata": {
        "colab": {
          "base_uri": "https://localhost:8080/"
        },
        "id": "-UOQOQzAKAs_",
        "outputId": "c20eade4-4f48-4538-8357-d6d871154bf7"
      },
      "execution_count": null,
      "outputs": [
        {
          "output_type": "stream",
          "name": "stdout",
          "text": [
            "1 - str(1.857) = 1\n",
            "<class 'str'>\n",
            "2 - str('4') = 2.758\n",
            "<class 'str'>\n",
            "3 - str(True) = True\n",
            "<class 'str'>\n",
            "4 - str(False) = False\n",
            "<class 'str'>\n",
            "5 - str('tex34') = SyntaxError: unexpected EOF while parsing.\n"
          ]
        }
      ]
    },
    {
      "cell_type": "markdown",
      "source": [
        "**print() com format()**"
      ],
      "metadata": {
        "id": "O5tWRF5NNY2l"
      }
    },
    {
      "cell_type": "code",
      "source": [
        "# imprimindo na forma tradicional\n",
        "lanche_preco = 10\n",
        "batata_preco = 5.25\n",
        "pedido_valor_total = lanche_preco + batata_preco\n",
        "print('Você pediu um lanche de: R$', lanche_preco, 'e uma batata de: R$', batata_preco, 'totalizando: R$', pedido_valor_total)"
      ],
      "metadata": {
        "id": "UGvBhYbhKvVQ",
        "colab": {
          "base_uri": "https://localhost:8080/"
        },
        "outputId": "e2da4868-b872-46e0-bff7-85d7e191d04b"
      },
      "execution_count": null,
      "outputs": [
        {
          "output_type": "stream",
          "name": "stdout",
          "text": [
            "Você pediu um lanche de: R$ 10 e uma batata de: R$ 5.25 totalizando: R$ 15.25\n"
          ]
        }
      ]
    },
    {
      "cell_type": "code",
      "source": [
        "# imprimindo com .format\n",
        "# PRESTE MUITA ATENÇÃO NA QUANTIDADE DE ASPAS E VÍRGULAS\n",
        "lanche_preco = 10\n",
        "batata_preco = 5.25\n",
        "pedido_valor_total = lanche_preco + batata_preco\n",
        "print('Você pediu um lanche de: R${} e uma batata de: R${} totalizando: R${}'.format(lanche_preco, batata_preco, pedido_valor_total))"
      ],
      "metadata": {
        "id": "rvtbDwf2OouI",
        "colab": {
          "base_uri": "https://localhost:8080/"
        },
        "outputId": "bb1723fc-80e7-4bfd-cf6a-e85fcc5bcfe1"
      },
      "execution_count": null,
      "outputs": [
        {
          "output_type": "stream",
          "name": "stdout",
          "text": [
            "Você pediu um lanche de: R$10 e uma batata de: R$5.25 totalizando: R$15.25\n"
          ]
        }
      ]
    },
    {
      "cell_type": "markdown",
      "source": [
        "**ENTENDENDO A ESTRUTURA DE print() COM .format**"
      ],
      "metadata": {
        "id": "Uf-5hhPVP3Iu"
      }
    },
    {
      "cell_type": "code",
      "source": [
        "a = 2\n",
        "b = 3\n",
        "print('Texto {}, mais texto'.format(a,b))"
      ],
      "metadata": {
        "colab": {
          "base_uri": "https://localhost:8080/"
        },
        "id": "QC0tsa4-QCG1",
        "outputId": "522fba01-cd56-491e-c179-7dbfe1d8e9b9"
      },
      "execution_count": null,
      "outputs": [
        {
          "output_type": "stream",
          "name": "stdout",
          "text": [
            "Texto 2, mais texto 3\n"
          ]
        }
      ]
    },
    {
      "cell_type": "markdown",
      "source": [
        "As chaves {} são também conhecidas como [Máscaras] = ficam na posição das variáveis.\n",
        "O .format é o [Método] = separa as variáveis que estão dentro do print()\n",
        "\n",
        "**DELIMITANDO O TAMANHO DE NÚMEROS IMPRESSOS**"
      ],
      "metadata": {
        "id": "bUTLa1j1QXud"
      }
    },
    {
      "cell_type": "code",
      "source": [
        "a = 1\n",
        "b = 7\n",
        "print('a dividido por b é: {}'.format(a/b))"
      ],
      "metadata": {
        "colab": {
          "base_uri": "https://localhost:8080/"
        },
        "id": "EU2JEH97QP3A",
        "outputId": "0c115015-f267-43d8-f86c-4d971e054df8"
      },
      "execution_count": null,
      "outputs": [
        {
          "output_type": "stream",
          "name": "stdout",
          "text": [
            "a dividido por b é: 0.14285714285714285\n"
          ]
        }
      ]
    },
    {
      "cell_type": "code",
      "source": [
        "a = 1\n",
        "b = 7\n",
        "print ('a dividido por b é: {:.5f}'.format(a/b))\n",
        "print ('a dividido por b é: {:.2f}'.format(a/b))"
      ],
      "metadata": {
        "colab": {
          "base_uri": "https://localhost:8080/"
        },
        "id": "7X9xVeM2RQkg",
        "outputId": "307b376c-b09f-4c7d-a994-30c91b59b880"
      },
      "execution_count": null,
      "outputs": [
        {
          "output_type": "stream",
          "name": "stdout",
          "text": [
            "a dividido por b é: 0.14286\n",
            "a dividido por b é: 0.14\n"
          ]
        }
      ]
    },
    {
      "cell_type": "code",
      "source": [
        "a = 245\n",
        "b = 2.835895\n",
        "print('|{0:10d}| e |{1:10.4f}|'.format(a,b))"
      ],
      "metadata": {
        "colab": {
          "base_uri": "https://localhost:8080/"
        },
        "id": "gRz-ajurRgAn",
        "outputId": "2632ec8c-e5fd-4348-b729-718548887caf"
      },
      "execution_count": null,
      "outputs": [
        {
          "output_type": "stream",
          "name": "stdout",
          "text": [
            "|       245| e |    2.8359|\n"
          ]
        }
      ]
    },
    {
      "cell_type": "markdown",
      "source": [
        "{0:10d}\n",
        "\n",
        "0 = 1ª variável no format\n",
        "\n",
        ": = separador\n",
        "\n",
        "10 = separar 10 espaços para o número\n",
        "\n",
        "d = número inteiro\n",
        "\n",
        "{1:10.4f}\n",
        "\n",
        "1 = 1ª variável no format\n",
        "\n",
        ": = separador\n",
        "\n",
        "10 = separar 10 espaços para o número\n",
        "\n",
        ". = separador de decimal\n",
        "\n",
        "4f = limitar em 4 floats (algarismos após a vírgula)"
      ],
      "metadata": {
        "id": "ruMRz17SSUvI"
      }
    },
    {
      "cell_type": "markdown",
      "source": [
        "**REVISÃO**\n",
        "\n",
        "Operações Aritméticas:\n",
        "\n",
        "(), **, *, /, %, //, +, -\n",
        "\n",
        "\n",
        "\n",
        "Conversão de Variáveis\n",
        "\n",
        "int() = converte para inteiro\n",
        "\n",
        "float() = converte para número decimal (real)\n",
        "\n",
        "str() = converte para string\n",
        "\n",
        "\n",
        "\n",
        "print() com .format()\n",
        "\n",
        "print('textos{}'.format())\n"
      ],
      "metadata": {
        "id": "4zmHH_wzTcU_"
      }
    }
  ]
}