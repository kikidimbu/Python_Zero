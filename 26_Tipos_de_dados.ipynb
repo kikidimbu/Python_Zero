{
  "nbformat": 4,
  "nbformat_minor": 0,
  "metadata": {
    "colab": {
      "name": "26-Tipos_de_dados.ipynb",
      "provenance": [],
      "collapsed_sections": []
    },
    "kernelspec": {
      "name": "python3",
      "display_name": "Python 3"
    },
    "language_info": {
      "name": "python"
    }
  },
  "cells": [
    {
      "cell_type": "code",
      "execution_count": 15,
      "metadata": {
        "colab": {
          "base_uri": "https://localhost:8080/"
        },
        "id": "044fPsJ1o8bh",
        "outputId": "b14183b4-469e-4850-c6d7-0189b02eb09f"
      },
      "outputs": [
        {
          "output_type": "stream",
          "name": "stdout",
          "text": [
            "TEORIA E FUNÇÕES BÁSICAS PARA PYTHON\n",
            "\n",
            "1 - int e float para números;\n",
            "2 - string para textos e;\n",
            "3 - booleanos para verdadeiro ou falso\n"
          ]
        }
      ],
      "source": [
        "print(\"TEORIA E FUNÇÕES BÁSICAS PARA PYTHON\")\n",
        "print()\n",
        "print(\"1 - int e float para números;\")\n",
        "print(\"2 - string para textos e;\")\n",
        "print(\"3 - booleanos para verdadeiro ou falso\")\n",
        "print()"
      ]
    },
    {
      "cell_type": "code",
      "source": [
        "print(\"COMIT - COMO ESTUDAR\")\n",
        "print()\n",
        "print(\"1 - Assista a aula teórica\")\n",
        "print(\"2 - Abra o arquivo base -- próxima atividade\")\n",
        "print(\"3 - Acompanhe a aula prática [pratica]\")\n",
        "print(\"    é preciso estar com o arquivo compartilhado pelo professor aberto para codificarmos juntos\")\n",
        "print(\"4 - Code junto comigo durante a aula\")\n",
        "print(\"5 - Faça os exercícios\")\n",
        "print()"
      ],
      "metadata": {
        "colab": {
          "base_uri": "https://localhost:8080/"
        },
        "id": "V6Oacq7Xr_my",
        "outputId": "7621ac0e-7ae3-4287-c2a8-a5b788bc916c"
      },
      "execution_count": 16,
      "outputs": [
        {
          "output_type": "stream",
          "name": "stdout",
          "text": [
            "COMIT - COMO ESTUDAR\n",
            "\n",
            "1 - Assista a aula teórica\n",
            "2 - Abra o arquivo base -- próxima atividade\n",
            "3 - Acompanhe a aula prática [pratica]\n",
            "    é preciso estar com o arquivo compartilhado pelo professor aberto para codificarmos juntos\n",
            "4 - Code junto comigo durante a aula\n",
            "5 - Faça os exercícios\n"
          ]
        }
      ]
    },
    {
      "cell_type": "code",
      "source": [
        "print(\"COMO TRABALHAR COM TEXTOS\")\n",
        "print()\n",
        "print(\"Textos em Python são chamados de strings = 'str' \")\n",
        "print(\"Exemplo de como fazer o usuário ver o texto que eu quero 'Olá, mundo!'\")\n",
        "print()\n",
        "print(\"VAMOS ENTENDER A ESTRUTURA POR TRÁS DO PYTHON\")\n",
        "print()\n",
        "print(\"DICA DE OURO - Preste atenção nas cores, pois as cores definem o tipo de\")\n",
        "print(\"    dados que estamos usando ao codificar e nos ajudam a detectar os nos-\")\n",
        "print(\"    sos erros.\")\n",
        "print()\n",
        "print(\"String [Tipo de Dado] = de cadeia de caracteres 'str'\")\n",
        "print(\"Uma string pode ser utilizada para armazenar textos de todos os tipos\")\n",
        "print(\"como textos com caracteres especiais, números, símbolos, etc...\")\n",
        "print()\n",
        "print(\"print() [Função] = Imprime ao usuário o que estiver dentro do ()\")\n",
        "print()\n",
        "print(\"* # [Comentário] = após o # tudo que escrever ficará registrado apenas no\")\n",
        "print(\"   código e não será impresso\")\n",
        "# print(\"\")\n",
        "print(\"* aspas simples e aspas duplas funcionam da mesma forma para funções de texto\")\n",
        "print(\"* 10\"\" - números formatados como strings\")\n",
        "print(\"* () - para escrever uma linha em branco\")\n",
        "print(\"* ' ' - espaços\")\n",
        "print(\"* @!#?@! - caracteres especiais\")\n",
        "print()"
      ],
      "metadata": {
        "colab": {
          "base_uri": "https://localhost:8080/"
        },
        "id": "pctiNX9ttOsn",
        "outputId": "a9e29381-b9cd-4e36-de1d-c31c0bee726f"
      },
      "execution_count": 37,
      "outputs": [
        {
          "output_type": "stream",
          "name": "stdout",
          "text": [
            "COMO TRABALHAR COM TEXTOS\n",
            "\n",
            "Textos em Python são chamados de strings = 'str' \n",
            "Exemplo de como fazer o usuário ver o texto que eu quero 'Olá, mundo!'\n",
            "\n",
            "VAMOS ENTENDER A ESTRUTURA POR TRÁS DO PYTHON\n",
            "\n",
            "DICA DE OURO - Preste atenção nas cores, pois as cores definem o tipo de\n",
            "    dados que estamos usando ao codificar e nos ajudam a detectar os nos-\n",
            "    sos erros.\n",
            "\n",
            "String [Tipo de Dado] = de cadeia de caracteres 'str'\n",
            "Uma string pode ser utilizada para armazenar textos de todos os tipos\n",
            "como textos com caracteres especiais, números, símbolos, etc...\n",
            "\n",
            "print() [Função] = Imprime ao usuário o que estiver dentro do ()\n",
            "\n",
            "* # [Comentário] = após o # tudo que escrever ficará registrado apenas no\n",
            "   código e não será impresso\n",
            "* aspas simples e aspas duplas funcionam da mesma forma para funções de texto\n",
            "* 10 - números formatados como strings\n",
            "* () - para escrever uma linha em branco\n",
            "* ' ' - espaços\n",
            "* @!#?@! - caracteres especiais\n"
          ]
        }
      ]
    },
    {
      "cell_type": "code",
      "source": [
        "print(\"PYTHON IS A CASE-SENSITIVE LANGUAGE\")\n",
        "print()"
      ],
      "metadata": {
        "colab": {
          "base_uri": "https://localhost:8080/"
        },
        "id": "fvVnyfaEuPmW",
        "outputId": "521d1f91-cde2-4724-bd34-43aae067ffa0"
      },
      "execution_count": 28,
      "outputs": [
        {
          "output_type": "stream",
          "name": "stdout",
          "text": [
            "PYTHON IS A CASE-SENSITIVE\n"
          ]
        }
      ]
    },
    {
      "cell_type": "code",
      "source": [
        "print(\"TRABALHANDO COM NÚMEROS\")\n",
        "print()\n",
        "print(\"No Python temos dois tipos de variáveis para números\")\n",
        "print(\"Eles são colocados direto e podem ou não conter casas decimais\")\n",
        "print()\n",
        "print(\"  7 - #int\")\n",
        "print(\"7.2 - #float\")\n",
        "print()\n",
        "print(\"Todos os float precisam ser registrados com '.'\")\n",
        "print()\n",
        "print(\"PODEMOS IMPRIMIR NÚMEROS?\")\n",
        "print()\n",
        "print(\"Para imprimir números, dispensamos as aspas\")\n",
        "print(\"print(7)\")\n",
        "print(7)\n",
        "print(\"print(7.2)\")\n",
        "print(7.2)\n",
        "print()\n",
        "print(\"PODEMOS IMPRIMIR UMA SOMA\")\n",
        "print()\n",
        "print(\"print (7+2)\")\n",
        "print(7+2)\n",
        "print()\n",
        "print(\"print(7.2+2.8\")\n",
        "print(7.2+2.8)\n",
        "print()\n",
        "print(\"print '7' + '2'\")\n",
        "print('7'+'2'\" = agrupamento ou concatenado\")\n",
        "print()\n",
        "print(\"Sempre precisamos prestar muita atenção nas cores, pois quando a cor é\")\n",
        "print(\"verde, significa que o Python reconhece o dado lançado como número, quan-\")\n",
        "print(\"do é vermelho, como texto.\")\n",
        "print()"
      ],
      "metadata": {
        "colab": {
          "base_uri": "https://localhost:8080/"
        },
        "id": "7m_EKsPkyR4G",
        "outputId": "8a8ab322-3746-4d7c-e626-3bdcdefaa9b9"
      },
      "execution_count": 46,
      "outputs": [
        {
          "output_type": "stream",
          "name": "stdout",
          "text": [
            "TRABALHANDO COM NÚMEROS\n",
            "\n",
            "No Python temos dois tipos de variáveis para números\n",
            "Eles são colocados direto e podem ou não conter casas decimais\n",
            "\n",
            "  7 - #int\n",
            "7.2 - #float\n",
            "\n",
            "Todos os float precisam ser registrados com '.'\n",
            "\n",
            "PODEMOS IMPRIMIR NÚMEROS?\n",
            "\n",
            "Para imprimir números, dispensamos as aspas\n",
            "print(7)\n",
            "7\n",
            "print(7.2)\n",
            "7.2\n",
            "\n",
            "PODEMOS IMPRIMIR UMA SOMA\n",
            "\n",
            "print (7+2)\n",
            "9\n",
            "\n",
            "print(7.2+2.8\n",
            "10.0\n",
            "\n",
            "print '7' + '2'\n",
            "72 = agrupamento ou concatenado\n",
            "\n",
            "Sempre precisamos prestar muita atenção nas cores, pois quando a cor é\n",
            "verde, significa que o Python reconhece o dado lançado como número, quan-\n",
            "do é vermelho, como texto.\n",
            "\n",
            "\n"
          ]
        }
      ]
    },
    {
      "cell_type": "code",
      "source": [
        "print(\"PODEMOS JUNTAR STRINGS? - IMPRESSÃO COMPOSTA\")\n",
        "print()\n",
        "print(\"'Meu nome é' + ' Kiki' - Ao concatenar usando '+' preciso marcar o espaço.\")\n",
        "print('Meu nome é'+' Kiki')\n",
        "print()\n",
        "print(\"'Meu nome é'\",\"' Kiki' - Ao concatenar usando ',' o python já adiciona o espaço.\")\n",
        "print('Meu nome é',' Kiki')\n",
        "print()\n",
        "print(\"'Eu tenho'\", 3, \"'casas lindas e espaçosas.\")\n",
        "print('Eu tenho', 3, 'casas lindas e espaçosas.')\n",
        "print()\n",
        "print(\"'Eu tenho'+ 3 + 'casas lindas e espaçosas.\")\n",
        "print(\"     TypeError: Traceback (most recent call last)\")\n",
        "print(\"     TypeError: can only concatenate str (not 'int') to str\")\n",
        "print()\n",
        "print(\"Na função 'print()' podemos misturar tipos de variáveis desde que elas\")\n",
        "print(\"sejam separadas por ','\")\n",
        "print(\"Já o operador '+' só pode ser usado com tipos de dados compatíveis\")\n",
        "print()\n",
        "print(\"Int + int    = soma\")\n",
        "print(\"Int + float  = soma\")\n",
        "print(\"Str + string = concatenar\")\n",
        "print()"
      ],
      "metadata": {
        "colab": {
          "base_uri": "https://localhost:8080/"
        },
        "id": "4BDkk-nd6GtB",
        "outputId": "4b9d909f-2034-45f1-f5f4-2f0d002e9dad"
      },
      "execution_count": 64,
      "outputs": [
        {
          "output_type": "stream",
          "name": "stdout",
          "text": [
            "PODEMOS JUNTAR STRINGS? - IMPRESSÃO COMPOSTA\n",
            "\n",
            "'Meu nome é' + ' Kiki' - Ao concatenar usando '+' preciso marcar o espaço.\n",
            "Meu nome é Kiki\n",
            "\n",
            "'Meu nome é' ' Kiki' - Ao concatenar usando ',' o python já adiciona o espaço.\n",
            "Meu nome é  Kiki\n",
            "\n",
            "'Eu tenho' 3 'casas lindas e espaçosas.\n",
            "Eu tenho 3 casas lindas e espaçosas.\n",
            "\n",
            "'Eu tenho'+ 3 + 'casas lindas e espaçosas.\n",
            "     TypeError: Traceback (most recent call last)\n",
            "     TypeError: can only concatenate str (not 'int') to str\n",
            "\n",
            "Na função 'print()' podemos misturar tipos de variáveis desde que elas\n",
            "sejam separadas por ','\n",
            "Já o operador '+' só pode ser usado com tipos de dados compatíveis\n",
            "\n",
            "Int + int    = soma\n",
            "Int + float  = soma\n",
            "Str + string = concatenar\n",
            "\n"
          ]
        }
      ]
    },
    {
      "cell_type": "code",
      "source": [
        "print(\"DECLARANDO VARIÁVEIS\")\n",
        "print()\n",
        "print(\"lanche = 'x-burguer'\")\n",
        "print(\"preco = 10.90\")\n",
        "print(\"qtd = 2\")\n",
        "print()\n",
        "print(\"lanche, preco e qtd são as VARIÁVEIS, que por estar entre aspas foi denominada uma str\")\n",
        "print(\"o sinal de igual é a ATRIBUIÇÃO, quando contem casas decimais é definida 'float', e sem 'int'\")\n",
        "print(\"'x-burguer', 10,90 e 2 são os VALORES ARMAZENADOS\")\n",
        "print()\n",
        "print(\"FAZENDO CONTAS COM VARIÁVEIS\")\n",
        "print()\n",
        "print(\"lanche = 10.90\")\n",
        "print(\"batata = 5.90\")\n",
        "print(\"refri = 3\")\n",
        "print()\n",
        "print(\"Declaramos uma nova variável para receber o valor desta conta\")\n",
        "print(\"conta = lanche + batata + refri\")\n",
        "print(\"No momento que quero mostrar o resultado da conta, posso imprimir a VARIÁVEL\")\n",
        "print(\"print(conta)\")\n",
        "print()\n",
        "print(\"IMPRESSÃO COMPOSTA COM VARIÁVEIS\")\n",
        "print()\n",
        "print(\"lanche = 10.90\")\n",
        "print(\"batata = 5.9\")\n",
        "print(\"pagto = 'cartão'\")\n",
        "print(\"conta = lanche + batata\")\n",
        "print()\n",
        "print(\"print ('Você pediu um lanche de R$', lanche, 'e uma batata de R$', batata,\")\n",
        "print(\" 'totalizando: R$', conta,' . O seu pagamento erá feito no: ',pgto)\")\n",
        "print()\n",
        "print(\"A exibição ficará assim:\")\n",
        "print(\"Você pediu um lanche de R$ 10.9, e uma batata de R$ 5.9, totalizando:\")\n",
        "print(\"R$ 16.8. O seu pagamento será feito no: cartao.\")\n",
        "print()"
      ],
      "metadata": {
        "colab": {
          "base_uri": "https://localhost:8080/"
        },
        "id": "f8JXSAAz9KrD",
        "outputId": "1fbd5dee-97dd-4407-b4c1-1854f23848b0"
      },
      "execution_count": 69,
      "outputs": [
        {
          "output_type": "stream",
          "name": "stdout",
          "text": [
            "DECLARANDO VARIÁVEIS\n",
            "\n",
            "lanche = 'x-burguer'\n",
            "preco = 10.90\n",
            "qtd = 2\n",
            "\n",
            "lanche, preco e qtd são as VARIÁVEIS, que por estar entre aspas foi denominada uma str\n",
            "o sinal de igual é a ATRIBUIÇÃO, quando contem casas decimais é definida 'float', e sem 'int'\n",
            "'x-burguer', 10,90 e 2 são os VALORES ARMAZENADOS\n",
            "\n",
            "FAZENDO CONTAS COM VARIÁVEIS\n",
            "\n",
            "lanche = 10.90\n",
            "batata = 5.90\n",
            "refri = 3\n",
            "\n",
            "Declaramos uma nova variável para receber o valor desta conta\n",
            "conta = lanche + batata + refri\n",
            "No momento que quero mostrar o resultado da conta, posso imprimir a VARIÁVEL\n",
            "print(conta)\n",
            "\n",
            "IMPRESSÃO COMPOSTA COM VARIÁVEIS\n",
            "\n",
            "lanche = 10.90\n",
            "batata = 5.9\n",
            "pagto = 'cartão'\n",
            "conta = lanche + batata\n",
            "\n",
            "print ('Você pediu um lanche de R$', lanche, 'e uma batata de R$', batata,\n",
            " 'totalizando: R$', conta,' . O seu pagamento erá feito no: ',pgto)\n",
            "\n",
            "A exibição ficará assim:\n",
            "Você pediu um lanche de R$ 10.9, e uma batata de R$ 5.9, totalizando:\n",
            "R$ 16.8. O seu pagamento será feito no: cartao.\n",
            "\n"
          ]
        }
      ]
    },
    {
      "cell_type": "code",
      "source": [
        "print(\"FUNÇÃO INPUT()\")\n",
        "print()\n",
        "print(\"Para melhorarmos a interface com o usuário podemos pedir para que ele\")\n",
        "print(\" insira os valores de cada variáel usando o input()\")\n",
        "print()\n",
        "print(\"lanche = input('Qual lanche você quer?')\")\n",
        "print(\"print('Você quer um:', lanche)\")\n",
        "print(\"Interpretando o código com a variável, fica assim:\")\n",
        "print(\"... Qual lanche você quer? 'x-burguer'\")\n",
        "print(\"Você quer um: x-burguer\")\n",
        "print(\"ONDE 'x-burguer' foi o valor lançado na variável 'lanche'\")\n",
        "print()\n",
        "print(\"A função input sempre pede parênteses\")\n",
        "print(\"input(_ _ _ _ )\")\n",
        "print(\"O input recebe a frase que descreve a informação que o usuário deve\")\n",
        "print(\"inserir. O dado sempre será 'str'\")\n",
        "print()"
      ],
      "metadata": {
        "colab": {
          "base_uri": "https://localhost:8080/"
        },
        "id": "oqI3Mt9fAVfy",
        "outputId": "133f6fe0-3d3e-48ae-c9ea-f1cc8e1d927d"
      },
      "execution_count": 74,
      "outputs": [
        {
          "output_type": "stream",
          "name": "stdout",
          "text": [
            "FUNÇÃO INPUT()\n",
            "\n",
            "Para melhorarmos a interface com o usuário podemos pedir para que ele\n",
            " insira os valores de cada variáel usando o input()\n",
            "\n",
            "lanche = input('Qual lanche você quer?')\n",
            "print('Você quer um:', lanche)\n",
            "Interpretando o código com a variável, fica assim:\n",
            "... Qual lanche você quer? 'x-burguer'\n",
            "Você quer um: x-burguer\n",
            "ONDE 'x-burguer' foi o valor lançado na variável 'lanche'\n",
            "\n",
            "A função input sempre pede parênteses\n",
            "input(_ _ _ _ )\n",
            "O input recebe a frase que descreve a informação que o usuário deve\n",
            "inserir. O dado sempre será 'str'\n",
            "\n"
          ]
        }
      ]
    },
    {
      "cell_type": "code",
      "source": [
        "print(\"FUNÇÃO TYPE()\")\n",
        "print()\n",
        "print(\"No input e em outros casos, podemos departa com Tipos de Sados indesejados\")\n",
        "print(\"Para isso podemos validar utilizando a função: type()\")\n",
        "print()\n",
        "print(\"A função type sempre pede parênteses\")\n",
        "print(\"type( _ _ _ _ )\")\n",
        "print()\n",
        "print(\"type('Kiki')\")\n",
        "print(type ('Kiki'))\n",
        "print()\n",
        "print(\"type(3)\")\n",
        "print(type(5))\n",
        "print()\n",
        "print(\"type(42.2)\")\n",
        "print(type(57.2))\n",
        "print()"
      ],
      "metadata": {
        "colab": {
          "base_uri": "https://localhost:8080/"
        },
        "id": "6V4nR2sKFbUP",
        "outputId": "c4bec63e-2c4d-4d34-a5ba-7ffea889ea97"
      },
      "execution_count": 76,
      "outputs": [
        {
          "output_type": "stream",
          "name": "stdout",
          "text": [
            "FUNÇÃO TYPE()\n",
            "\n",
            "No input e em outros casos, podemos departa com Tipos de Sados indesejados\n",
            "Para isso podemos validar utilizando a função: type()\n",
            "\n",
            "A função type sempre pede parênteses\n",
            "type( _ _ _ _ )\n",
            "\n",
            "type('Kiki')\n",
            "<class 'str'>\n",
            "\n",
            "type(3)\n",
            "<class 'int'>\n",
            "\n",
            "type(42.2)\n",
            "<class 'float'>\n",
            "\n"
          ]
        }
      ]
    },
    {
      "cell_type": "code",
      "source": [
        "print(\"TIPO DE DADO = BOOL\")\n",
        "print()\n",
        "print(\"O último tipo de dado que veremos é o bool\")\n",
        "print(\"ela pode ser True or False (verdadeiro ou falso)\")\n",
        "print()\n",
        "print(\"pagtoCartao = True\")\n",
        "print(\"pagtoDinheiro = False\")\n",
        "print(\"type(pgtoCartao)\")\n",
        "print()\n",
        "print(\"REGRA DE SINTAXE PARA BOOL\")\n",
        "print()\n",
        "print(\"Sempre as palavras True e False sem aspas e com a primeira letra maiúscula\")\n",
        "print()"
      ],
      "metadata": {
        "colab": {
          "base_uri": "https://localhost:8080/"
        },
        "id": "CQtNowhCNXmP",
        "outputId": "df194f38-bce0-4c5f-d373-f98d53b58771"
      },
      "execution_count": 78,
      "outputs": [
        {
          "output_type": "stream",
          "name": "stdout",
          "text": [
            "TIPO DE DADO = BOOL\n",
            "\n",
            "O último tipo de dado que veremos é o bool\n",
            "ela pode ser True or False (verdadeiro ou falso)\n",
            "\n",
            "pagtoCartao = True\n",
            "pagtoDinheiro = False\n",
            "type(pgtoCartao)\n",
            "\n",
            "REGRA DE SINTAXE PARA BOOL\n",
            "\n",
            "Sempre as palavras True e False sem aspas e com a primeira letra maiúscula\n",
            "\n",
            "\n",
            "\n"
          ]
        }
      ]
    },
    {
      "cell_type": "code",
      "source": [
        "print(\"REVISÃO\")\n",
        "print()\n",
        "print(\"TIPOS DE DADOS\")\n",
        "print()\n",
        "print(\"str [cadeia de caracteres] = 'Py', '7', '@3a₢\")\n",
        "print(\"int [inteiro] = 5, 7, 2\")\n",
        "print(\"float [real] = 5.2, 7.0, 3.14\")\n",
        "print(\"bool [booleano] = True, False\")\n",
        "print()\n",
        "print(\"FUNÇÕES\")\n",
        "print()\n",
        "print(\"print() = imprime um valor ou frase\")\n",
        "print(\"type() = verifica o Tipo de Dado de uma variável\")\n",
        "print(\"input() = pede pro usuário fornecer um valor (str)\")\n",
        "print()\n"
      ],
      "metadata": {
        "id": "uTgqQkrKOEWP"
      },
      "execution_count": null,
      "outputs": []
    }
  ]
}